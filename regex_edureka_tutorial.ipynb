{
  "nbformat": 4,
  "nbformat_minor": 0,
  "metadata": {
    "colab": {
      "name": "regex edureka tutorial.ipynb",
      "provenance": [],
      "collapsed_sections": [],
      "authorship_tag": "ABX9TyP8prutQl8f5FhJiGzxuICv",
      "include_colab_link": true
    },
    "kernelspec": {
      "name": "python3",
      "display_name": "Python 3"
    }
  },
  "cells": [
    {
      "cell_type": "markdown",
      "metadata": {
        "id": "view-in-github",
        "colab_type": "text"
      },
      "source": [
        "<a href=\"https://colab.research.google.com/github/Raph-09/First_project/blob/master/regex_edureka_tutorial.ipynb\" target=\"_parent\"><img src=\"https://colab.research.google.com/assets/colab-badge.svg\" alt=\"Open In Colab\"/></a>"
      ]
    },
    {
      "cell_type": "code",
      "metadata": {
        "id": "qWdzRDqgqVsS"
      },
      "source": [
        "import re"
      ],
      "execution_count": 53,
      "outputs": []
    },
    {
      "cell_type": "markdown",
      "metadata": {
        "id": "sue94h_lx66L"
      },
      "source": [
        "**Get names and ages from below:**"
      ]
    },
    {
      "cell_type": "code",
      "metadata": {
        "id": "FmiEPxX6vPVX"
      },
      "source": [
        "nameage = ('''Januce is 22 and Theon is 33\r\n",
        "            Gabriel is 44 and joey is 21 ''')"
      ],
      "execution_count": 54,
      "outputs": []
    },
    {
      "cell_type": "code",
      "metadata": {
        "id": "PyVVz3TUvlBB"
      },
      "source": [
        "ages = re.findall(r'\\d{1,3}',nameage)"
      ],
      "execution_count": 55,
      "outputs": []
    },
    {
      "cell_type": "code",
      "metadata": {
        "id": "muJNFaFdv19B"
      },
      "source": [
        "names =  re.findall(r'[A-Z][a-z]*',nameage)"
      ],
      "execution_count": 56,
      "outputs": []
    },
    {
      "cell_type": "code",
      "metadata": {
        "id": "kWLBf9AFwDDS"
      },
      "source": [
        "agedict = {}\r\n",
        "x = 0\r\n",
        "for eachname in names:\r\n",
        "  agedict[eachname] = ages[x]\r\n",
        "  x+=1\r\n"
      ],
      "execution_count": 57,
      "outputs": []
    },
    {
      "cell_type": "code",
      "metadata": {
        "colab": {
          "base_uri": "https://localhost:8080/"
        },
        "id": "xvP9QTluwEmd",
        "outputId": "731974bb-3fc3-40e1-9d45-71d0d80f6fc3"
      },
      "source": [
        "agedict"
      ],
      "execution_count": 58,
      "outputs": [
        {
          "output_type": "execute_result",
          "data": {
            "text/plain": [
              "{'Gabriel': '44', 'Januce': '22', 'Theon': '33'}"
            ]
          },
          "metadata": {
            "tags": []
          },
          "execution_count": 58
        }
      ]
    },
    {
      "cell_type": "markdown",
      "metadata": {
        "id": "osg3b9_DxzRD"
      },
      "source": [
        "**Find a word in a string**"
      ]
    },
    {
      "cell_type": "code",
      "metadata": {
        "colab": {
          "base_uri": "https://localhost:8080/"
        },
        "id": "2m0__4rnyrYe",
        "outputId": "eaf64364-9abf-436b-8437-e04d54685ac3"
      },
      "source": [
        "all_inform = re.findall('inform','we need to inform him with the latest information')#find 'inform' in 'we need to inform him with the latest information'\r\n",
        "for i in all_inform:\r\n",
        "  print(i) \r\n"
      ],
      "execution_count": 59,
      "outputs": [
        {
          "output_type": "stream",
          "text": [
            "inform\n",
            "inform\n"
          ],
          "name": "stdout"
        }
      ]
    },
    {
      "cell_type": "markdown",
      "metadata": {
        "id": "oLNaKF6pz2Yp"
      },
      "source": [
        "search if inform is present in following string"
      ]
    },
    {
      "cell_type": "code",
      "metadata": {
        "colab": {
          "base_uri": "https://localhost:8080/"
        },
        "id": "e5Ln6lB2x38o",
        "outputId": "2bedef07-ecf5-43ec-bff4-179f375e6832"
      },
      "source": [
        "if re.search('inform','we need to inform him with the latest information'):\r\n",
        "  print('there is inform')"
      ],
      "execution_count": 60,
      "outputs": [
        {
          "output_type": "stream",
          "text": [
            "there is inform\n"
          ],
          "name": "stdout"
        }
      ]
    },
    {
      "cell_type": "code",
      "metadata": {
        "colab": {
          "base_uri": "https://localhost:8080/"
        },
        "id": "NPt98_Rtykzn",
        "outputId": "cbfa4231-4cad-44c5-ccd8-b7fbbe3352e3"
      },
      "source": [
        "str_ = 'we need to inform him with the latest information'\r\n",
        "for i in re.finditer('inform',str_):\r\n",
        "  lockup = i.span()\r\n",
        "  print(lockup)"
      ],
      "execution_count": 61,
      "outputs": [
        {
          "output_type": "stream",
          "text": [
            "(11, 17)\n",
            "(38, 44)\n"
          ],
          "name": "stdout"
        }
      ]
    },
    {
      "cell_type": "markdown",
      "metadata": {
        "id": "ntJQFa8z1zpA"
      },
      "source": [
        "**Match words with a particular pattern**"
      ]
    },
    {
      "cell_type": "code",
      "metadata": {
        "colab": {
          "base_uri": "https://localhost:8080/"
        },
        "id": "Dp6eUreH14vB",
        "outputId": "b1320077-d813-4bd9-92ef-acd9b6a418d8"
      },
      "source": [
        "str = \"Sat,mat,hat,pat\"\r\n",
        "attstr = re. findall(\"[Smhp]at\",str)\r\n",
        "for i in attstr:\r\n",
        "  print(i) "
      ],
      "execution_count": 62,
      "outputs": [
        {
          "output_type": "stream",
          "text": [
            "Sat\n",
            "mat\n",
            "hat\n",
            "pat\n"
          ],
          "name": "stdout"
        }
      ]
    },
    {
      "cell_type": "code",
      "metadata": {
        "id": "68Ee3Nbr26QI"
      },
      "source": [
        ""
      ],
      "execution_count": 62,
      "outputs": []
    },
    {
      "cell_type": "markdown",
      "metadata": {
        "id": "1EPCz2EV4mWk"
      },
      "source": [
        "**match series of range of characters**"
      ]
    },
    {
      "cell_type": "code",
      "metadata": {
        "colab": {
          "base_uri": "https://localhost:8080/"
        },
        "id": "1DeqMgUy4r7a",
        "outputId": "7f776dee-2d51-4e82-85dc-9f34b844fd0b"
      },
      "source": [
        "#print hat and mat\r\n",
        "str = \"Sat,mat,hat,pat\"\r\n",
        "attstr = re. findall(\"[h-m]at\",str)\r\n",
        "for i in attstr:\r\n",
        "  print(i) "
      ],
      "execution_count": 63,
      "outputs": [
        {
          "output_type": "stream",
          "text": [
            "mat\n",
            "hat\n"
          ],
          "name": "stdout"
        }
      ]
    },
    {
      "cell_type": "code",
      "metadata": {
        "colab": {
          "base_uri": "https://localhost:8080/"
        },
        "id": "Mtw6MePU45Mx",
        "outputId": "e143ce8a-51a8-4f32-e9de-e5b092749ec6"
      },
      "source": [
        "#you can print everything\r\n",
        "\r\n",
        "str = \"sat,mat,hat,pat\"\r\n",
        "attstr = re. findall(\"[h-z]at\",str)#h-z matches all the characters\r\n",
        "for i in attstr:\r\n",
        "  print(i) "
      ],
      "execution_count": 64,
      "outputs": [
        {
          "output_type": "stream",
          "text": [
            "sat\n",
            "mat\n",
            "hat\n",
            "pat\n"
          ],
          "name": "stdout"
        }
      ]
    },
    {
      "cell_type": "code",
      "metadata": {
        "colab": {
          "base_uri": "https://localhost:8080/"
        },
        "id": "phVLLK815RnS",
        "outputId": "851d0eca-9704-4a23-cb42-d9db8a2622b9"
      },
      "source": [
        "#not printing words whch begins with letter between h to m\r\n",
        "str = \"sat,mat,hat,pat\"\r\n",
        "attstr = re. findall(\"[^h-m]at\",str)#h-z matches all the characters\r\n",
        "for i in attstr:\r\n",
        "  print(i)"
      ],
      "execution_count": 65,
      "outputs": [
        {
          "output_type": "stream",
          "text": [
            "sat\n",
            "pat\n"
          ],
          "name": "stdout"
        }
      ]
    },
    {
      "cell_type": "code",
      "metadata": {
        "id": "SokSGmK15_0o"
      },
      "source": [
        ""
      ],
      "execution_count": 65,
      "outputs": []
    },
    {
      "cell_type": "markdown",
      "metadata": {
        "id": "8TEBuwN96l-e"
      },
      "source": [
        "**how to replace or substitute words in a string**"
      ]
    },
    {
      "cell_type": "code",
      "metadata": {
        "colab": {
          "base_uri": "https://localhost:8080/"
        },
        "id": "N8y53EZB6sGI",
        "outputId": "f04e2c65-1ead-47e1-d27b-82b36b3601db"
      },
      "source": [
        "#Lets replace rat with food\r\n",
        "str = \"sat,rat,hat,pat\"\r\n",
        "regex = re.compile(\"[r]at\")\r\n",
        "str = regex.sub('food',str)\r\n",
        "print(str)"
      ],
      "execution_count": 66,
      "outputs": [
        {
          "output_type": "stream",
          "text": [
            "sat,food,hat,pat\n"
          ],
          "name": "stdout"
        }
      ]
    },
    {
      "cell_type": "code",
      "metadata": {
        "id": "nm4Tphge7LK3"
      },
      "source": [
        ""
      ],
      "execution_count": 66,
      "outputs": []
    },
    {
      "cell_type": "markdown",
      "metadata": {
        "id": "fUS0mmJi9Do_"
      },
      "source": [
        "solving the backslash problem"
      ]
    },
    {
      "cell_type": "code",
      "metadata": {
        "colab": {
          "base_uri": "https://localhost:8080/"
        },
        "id": "AQ9XFveC9IvQ",
        "outputId": "6cc19480-89e6-4b66-de1a-ac2b8a4c75fe"
      },
      "source": [
        "rand_str = \"here is \\\\drogba\"\r\n",
        "print(re.search(r\"\\\\drogba\",rand_str))\r\n"
      ],
      "execution_count": 68,
      "outputs": [
        {
          "output_type": "stream",
          "text": [
            "<re.Match object; span=(8, 15), match='\\\\drogba'>\n",
            "here is \\drogba\n"
          ],
          "name": "stdout"
        }
      ]
    },
    {
      "cell_type": "markdown",
      "metadata": {
        "id": "yCLB8HOZ_jDK"
      },
      "source": [
        "**Replacing newline with whitespace**"
      ]
    },
    {
      "cell_type": "code",
      "metadata": {
        "colab": {
          "base_uri": "https://localhost:8080/"
        },
        "id": "J6fPQhJf_iFT",
        "outputId": "aef3e827-266c-4f9c-af60-318ec0764907"
      },
      "source": [
        "randstr = '''keep the red flag\r\n",
        "flying high\r\n",
        "man u ''' \r\n",
        "print(randstr)"
      ],
      "execution_count": 78,
      "outputs": [
        {
          "output_type": "stream",
          "text": [
            "keep the red flag\n",
            "flying high\n",
            "man u \n"
          ],
          "name": "stdout"
        }
      ]
    },
    {
      "cell_type": "code",
      "metadata": {
        "colab": {
          "base_uri": "https://localhost:8080/"
        },
        "id": "cGaTWNcS_5Ot",
        "outputId": "72d6a65e-9a05-46a1-bb6d-f2c7bb26d8ce"
      },
      "source": [
        "r = re.compile(\"\\n\")\r\n",
        "randstr = r.sub(\" \",randstr)\r\n",
        "print(randstr)"
      ],
      "execution_count": 79,
      "outputs": [
        {
          "output_type": "stream",
          "text": [
            "keep the red flag flying high man u \n"
          ],
          "name": "stdout"
        }
      ]
    },
    {
      "cell_type": "code",
      "metadata": {
        "id": "ENXSb7rmAKpH"
      },
      "source": [
        "#shorthands you can work with\r\n",
        "#\\b:backspace\r\n",
        "#\\f:formfeed\r\n",
        "#\\r:carrige return\r\n",
        "#\\t:tab\r\n",
        "#\\v:vertical tab\r\n",
        "#\\w=[a-zA-Z0-9]\r\n",
        "#\\W=[^a-zA-Z0-9]\r\n",
        "#\\s:space between first and last name=[\\f\\n\\t\\r\\v]\r\n",
        "#\\S=^[\\f\\n\\t\\r\\v]"
      ],
      "execution_count": 80,
      "outputs": []
    },
    {
      "cell_type": "code",
      "metadata": {
        "id": "scZrSNA8DNF-"
      },
      "source": [
        ""
      ],
      "execution_count": null,
      "outputs": []
    },
    {
      "cell_type": "markdown",
      "metadata": {
        "id": "krHBeTtJDtIT"
      },
      "source": [
        "**How to match a single chracter**"
      ]
    },
    {
      "cell_type": "code",
      "metadata": {
        "colab": {
          "base_uri": "https://localhost:8080/"
        },
        "id": "XwlOI0aMDw-1",
        "outputId": "f92acdd6-9a8d-4f5b-e000-d52b76a16812"
      },
      "source": [
        "#\\d matches every digit\r\n",
        "randstr = \"12345\"\r\n",
        "print(\"digit\",re.findall(\"\\d\",randstr))"
      ],
      "execution_count": 84,
      "outputs": [
        {
          "output_type": "stream",
          "text": [
            "digit ['1', '2', '3', '4', '5']\n"
          ],
          "name": "stdout"
        }
      ]
    },
    {
      "cell_type": "code",
      "metadata": {
        "colab": {
          "base_uri": "https://localhost:8080/"
        },
        "id": "e0U7TuhCEeh_",
        "outputId": "9765cab7-f3d1-4970-9022-8e42ad8ae020"
      },
      "source": [
        "#find the lenth of the digits\r\n",
        "randstr = \"12345\"\r\n",
        "print(\"matches\",len(re.findall(\"\\d\",randstr)))"
      ],
      "execution_count": 88,
      "outputs": [
        {
          "output_type": "stream",
          "text": [
            "matches 5\n"
          ],
          "name": "stdout"
        }
      ]
    },
    {
      "cell_type": "code",
      "metadata": {
        "colab": {
          "base_uri": "https://localhost:8080/"
        },
        "id": "7AvbzTb1FAw1",
        "outputId": "76724afc-0cff-450b-f310-c18b9cbb1b20"
      },
      "source": [
        "#\\D matches every character except digits\r\n",
        "randstr = \"12345\"\r\n",
        "print(\"matches\",len(re.findall(\"\\D\",randstr)))"
      ],
      "execution_count": 87,
      "outputs": [
        {
          "output_type": "stream",
          "text": [
            "matches 0\n"
          ],
          "name": "stdout"
        }
      ]
    },
    {
      "cell_type": "code",
      "metadata": {
        "colab": {
          "base_uri": "https://localhost:8080/"
        },
        "id": "r3_ucTzRFMgH",
        "outputId": "e8df13b8-bfdc-45f3-b16a-7ff0a77bce66"
      },
      "source": [
        "#find match for one of the number\r\n",
        "randstr = \"12345\"\r\n",
        "print(\"matches\",len(re.findall(\"\\d{5}\",randstr)))"
      ],
      "execution_count": 89,
      "outputs": [
        {
          "output_type": "stream",
          "text": [
            "matches 1\n"
          ],
          "name": "stdout"
        }
      ]
    },
    {
      "cell_type": "code",
      "metadata": {
        "colab": {
          "base_uri": "https://localhost:8080/"
        },
        "id": "DVavn5p1FjA2",
        "outputId": "f20fcfa7-d837-457a-cad9-c966139509ef"
      },
      "source": [
        "#match digits with certain range\r\n",
        "num = \"123 1234 12345 123456 1234567\"\r\n",
        "print(\"matches:\",len(re.findall(\"\\d{5,7}\",num)))"
      ],
      "execution_count": 90,
      "outputs": [
        {
          "output_type": "stream",
          "text": [
            "matches: 3\n"
          ],
          "name": "stdout"
        }
      ]
    },
    {
      "cell_type": "code",
      "metadata": {
        "id": "j4_IJjNfGhTQ"
      },
      "source": [
        ""
      ],
      "execution_count": null,
      "outputs": []
    },
    {
      "cell_type": "markdown",
      "metadata": {
        "id": "hX8i3KcbHzUF"
      },
      "source": [
        "**APLICATION OF REGEX**"
      ]
    },
    {
      "cell_type": "markdown",
      "metadata": {
        "id": "UFdQTbB3H723"
      },
      "source": [
        "Phone number identification(phone numbers always have similar format-three digits with hyphen, three digits again with hiphen and four digits eg 412-555-1212"
      ]
    },
    {
      "cell_type": "code",
      "metadata": {
        "colab": {
          "base_uri": "https://localhost:8080/"
        },
        "id": "fHwttUifH6Lm",
        "outputId": "eeada07b-1f43-4077-9585-790f8e753939"
      },
      "source": [
        "# lets check if this phone number is actually a phone number\r\n",
        "phone = \"412-555-1212\"\r\n",
        "if re.search(\"\\w{3}-\\w{3}-\\w{4}\",phone):\r\n",
        "  print(\"it is a phone number\")\r\n",
        "else:\r\n",
        "  print(\"it is not a phone number\")"
      ],
      "execution_count": 92,
      "outputs": [
        {
          "output_type": "stream",
          "text": [
            "it is a phone number\n"
          ],
          "name": "stdout"
        }
      ]
    },
    {
      "cell_type": "code",
      "metadata": {
        "colab": {
          "base_uri": "https://localhost:8080/"
        },
        "id": "xhT98ToWIfo_",
        "outputId": "818707be-51ab-40de-b40b-825f8d4dbd26"
      },
      "source": [
        "# lets check if this phone number is actually a phone number\r\n",
        "phone = \"412-5555-1212\"\r\n",
        "if re.search(\"\\w{3}-\\w{3}-\\w{4}\",phone):\r\n",
        "  print(\"it is a phone number\")\r\n",
        "else:\r\n",
        "  print(\"it is not a phone number\")"
      ],
      "execution_count": 93,
      "outputs": [
        {
          "output_type": "stream",
          "text": [
            "it is not a phone number\n"
          ],
          "name": "stdout"
        }
      ]
    },
    {
      "cell_type": "markdown",
      "metadata": {
        "id": "nVHkVFXZKmP8"
      },
      "source": [
        "**Check if fullname is valid**"
      ]
    },
    {
      "cell_type": "code",
      "metadata": {
        "colab": {
          "base_uri": "https://localhost:8080/"
        },
        "id": "ZgJGLqXwIn8E",
        "outputId": "3e054940-3b9b-483c-8c6f-c7823cb3042f"
      },
      "source": [
        "name = \" cristiano ronaldo\"\r\n",
        "if re.search(\"\\w{2,20}\\s\\w{2,20}\",name):\r\n",
        "  print(\"Full name is valid\")\r\n",
        "else:\r\n",
        "  print(\"Full name is not valid\")"
      ],
      "execution_count": 119,
      "outputs": [
        {
          "output_type": "stream",
          "text": [
            "Full name is valid\n"
          ],
          "name": "stdout"
        }
      ]
    },
    {
      "cell_type": "markdown",
      "metadata": {
        "id": "ozEYRolvMhO2"
      },
      "source": [
        "**Email verification**\r\n",
        "**email should have**:\r\n",
        "\r\n",
        "\r\n",
        "*  1 to 20 lowercse and uppercase letters,numbers,plus ._%+- \r\n",
        "*  an @ symbol\r\n",
        "*   2 to 20 lowercase and uppercase letters,numbers,plus.-\r\n",
        "*   a period\r\n",
        "*   2 to 3 lowercase and uppercase leters"
      ]
    },
    {
      "cell_type": "code",
      "metadata": {
        "colab": {
          "base_uri": "https://localhost:8080/"
        },
        "id": "uHTU77LWLHRv",
        "outputId": "6b31cacd-3411-40f2-f71c-e26b4457ac3e"
      },
      "source": [
        "email = \"sk@oal.com md@.co @seo.com dc@.com\"\r\n",
        "print(\"email matches\",len(re.findall(\"[\\w._%+-]{1,20}@[\\w.-]{2,20}.[A-Za-z]{2,3}\",email)))"
      ],
      "execution_count": 128,
      "outputs": [
        {
          "output_type": "stream",
          "text": [
            "email matches 1\n"
          ],
          "name": "stdout"
        }
      ]
    },
    {
      "cell_type": "markdown",
      "metadata": {
        "id": "eMRfTuxMS4Aq"
      },
      "source": [
        "webscrabing with regex"
      ]
    },
    {
      "cell_type": "code",
      "metadata": {
        "colab": {
          "base_uri": "https://localhost:8080/"
        },
        "id": "_m0-P5j5P7nc",
        "outputId": "513c39c1-7e60-4a3c-d742-89dd1ba7c700"
      },
      "source": [
        "import urllib.request\r\n",
        "from re import findall\r\n",
        "url = \"https://www.summet.com/dmsi/html/codesamples/addresses.html\"\r\n",
        "response = urllib.request.urlopen(url)\r\n",
        "html = response.read()\r\n",
        "html_str = html.decode()\r\n",
        "pdata = findall(\"\\(\\d{3}\\) \\d{3}-\\d{4}\",html_str)\r\n",
        "\r\n",
        "for item in  pdata:\r\n",
        "  print(item)\r\n",
        "\r\n"
      ],
      "execution_count": 147,
      "outputs": [
        {
          "output_type": "stream",
          "text": [
            "(257) 563-7401\n",
            "(372) 587-2335\n",
            "(786) 713-8616\n",
            "(793) 151-6230\n",
            "(492) 709-6392\n",
            "(654) 393-5734\n",
            "(404) 960-3807\n",
            "(314) 244-6306\n",
            "(947) 278-5929\n",
            "(684) 579-1879\n",
            "(389) 737-2852\n",
            "(660) 663-4518\n",
            "(608) 265-2215\n",
            "(959) 119-8364\n",
            "(468) 353-2641\n",
            "(248) 675-4007\n",
            "(939) 353-1107\n",
            "(570) 873-7090\n",
            "(302) 259-2375\n",
            "(717) 450-4729\n",
            "(453) 391-4650\n",
            "(559) 104-5475\n",
            "(387) 142-9434\n",
            "(516) 745-4496\n",
            "(326) 677-3419\n",
            "(746) 679-2470\n",
            "(455) 430-0989\n",
            "(490) 936-4694\n",
            "(985) 834-8285\n",
            "(662) 661-1446\n",
            "(802) 668-8240\n",
            "(477) 768-9247\n",
            "(791) 239-9057\n",
            "(832) 109-0213\n",
            "(837) 196-3274\n",
            "(268) 442-2428\n",
            "(850) 676-5117\n",
            "(861) 546-5032\n",
            "(176) 805-4108\n",
            "(715) 912-6931\n",
            "(993) 554-0563\n",
            "(357) 616-5411\n",
            "(121) 347-0086\n",
            "(304) 506-6314\n",
            "(425) 288-2332\n",
            "(145) 987-4962\n",
            "(187) 582-9707\n",
            "(750) 558-3965\n",
            "(492) 467-3131\n",
            "(774) 914-2510\n",
            "(888) 106-8550\n",
            "(539) 567-3573\n",
            "(693) 337-2849\n",
            "(545) 604-9386\n",
            "(221) 156-5026\n",
            "(414) 876-0865\n",
            "(932) 726-8645\n",
            "(726) 710-9826\n",
            "(622) 594-1662\n",
            "(948) 600-8503\n",
            "(605) 900-7508\n",
            "(716) 977-5775\n",
            "(368) 239-8275\n",
            "(725) 342-0650\n",
            "(711) 993-5187\n",
            "(882) 399-5084\n",
            "(287) 755-9948\n",
            "(659) 551-3389\n",
            "(275) 730-6868\n",
            "(725) 757-4047\n",
            "(314) 882-1496\n",
            "(639) 360-7590\n",
            "(168) 222-1592\n",
            "(896) 303-1164\n",
            "(203) 982-6130\n",
            "(906) 217-1470\n",
            "(614) 514-1269\n",
            "(763) 409-5446\n",
            "(836) 292-5324\n",
            "(926) 709-3295\n",
            "(963) 356-9268\n",
            "(736) 522-8584\n",
            "(410) 483-0352\n",
            "(252) 204-1434\n",
            "(874) 886-4174\n",
            "(581) 379-7573\n",
            "(983) 632-8597\n",
            "(295) 983-3476\n",
            "(873) 392-8802\n",
            "(360) 669-3923\n",
            "(840) 987-9449\n",
            "(422) 517-6053\n",
            "(126) 940-2753\n",
            "(427) 930-5255\n",
            "(689) 721-5145\n",
            "(676) 334-2174\n",
            "(437) 994-5270\n",
            "(564) 908-6970\n",
            "(577) 333-6244\n",
            "(655) 840-6139\n"
          ],
          "name": "stdout"
        }
      ]
    },
    {
      "cell_type": "code",
      "metadata": {
        "id": "Lhfhqqg7UZPs"
      },
      "source": [
        ""
      ],
      "execution_count": null,
      "outputs": []
    }
  ]
}